{
 "cells": [
  {
   "attachments": {},
   "cell_type": "markdown",
   "metadata": {},
   "source": [
    "This is Process!"
   ]
  },
  {
   "cell_type": "code",
   "execution_count": 1,
   "metadata": {},
   "outputs": [],
   "source": [
    "class Process:\n",
    "    # Process class\n",
    "    # Process that will be scheduled.\n",
    "    # It contains the process scheduling information.\n",
    "\n",
    "    def __init__(self, burstTime, arrivalTime, priority, processName):\n",
    "        self.burstTime = burstTime\n",
    "        self.arrivalTime = arrivalTime\n",
    "        self.priority = priority\n",
    "        self.processName = processName\n",
    "\n",
    "        self.executedTimeSection = []\n",
    "\n",
    "        self.runningTime = 0\n",
    "        self.waitingTime = 0\n",
    "        self.responseTime = 0\n",
    "        self.turnAroundTime = 0\n",
    "\n",
    "        self.isRunning = False\n",
    "        self.isTerminated = False\n",
    "\n",
    "    # For process that is executing,\n",
    "    # increase the runningTime.\n",
    "    def runningTick(self):\n",
    "        # Append the timeSection for displaying gantt-chart.\n",
    "        self.runningTime += 1\n",
    "\n",
    "    # For processes that are waiting in the readyQueue,\n",
    "    # increase the waitingTime.\n",
    "    def waitingTick(self):\n",
    "        self.waitingTime += 1\n",
    "\n",
    "    def getRemainingTime(self):\n",
    "        return self.burstTime - self.runningTime\n",
    "\n",
    "    # Make this process to be executed on CPU.\n",
    "    # Note that he calculating manner of responseTime could be changed\n",
    "    # for preemptive scheduling algorithms.\n",
    "    def startProcessRunning(self):\n",
    "        if (self.isRunning == True):\n",
    "            return\n",
    "\n",
    "        self.isRunning = True\n",
    "\n",
    "        if (self.responseTime == 0):\n",
    "            self.responseTime = self.waitingTime\n",
    "\n",
    "    # Stop\n",
    "    def pauseProcessRunning(self, timeSection):\n",
    "        if (self.isRunning == False):\n",
    "            return\n",
    "\n",
    "        self.executedTimeSection.append(timeSection)\n",
    "        self.isRunning = False\n",
    "\n",
    "    # Make this process to be terminated.\n",
    "    # Calculate the turnAroundTime.\n",
    "    def terminateProcess(self, timeSection):\n",
    "        if (self.isRunning == False):\n",
    "            return\n",
    "\n",
    "        # Stop running in CPU and alculates the scheduling evaluation factors.\n",
    "        self.executedTimeSection.append(timeSection)\n",
    "        self.isRunning = False\n",
    "        self.isTerminated = True\n",
    "        self.turnAroundTime = self.runningTime + self.waitingTime\n"
   ]
  }
 ],
 "metadata": {
  "kernelspec": {
   "display_name": "Python 3",
   "language": "python",
   "name": "python3"
  },
  "language_info": {
   "codemirror_mode": {
    "name": "ipython",
    "version": 3
   },
   "file_extension": ".py",
   "mimetype": "text/x-python",
   "name": "python",
   "nbconvert_exporter": "python",
   "pygments_lexer": "ipython3",
   "version": "3.9.7"
  },
  "orig_nbformat": 4
 },
 "nbformat": 4,
 "nbformat_minor": 2
}
